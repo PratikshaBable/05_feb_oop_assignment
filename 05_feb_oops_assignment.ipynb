{
  "nbformat": 4,
  "nbformat_minor": 0,
  "metadata": {
    "colab": {
      "provenance": []
    },
    "kernelspec": {
      "name": "python3",
      "display_name": "Python 3"
    },
    "language_info": {
      "name": "python"
    }
  },
  "cells": [
    {
      "cell_type": "code",
      "execution_count": null,
      "metadata": {
        "id": "8yLZsxZwzEHp"
      },
      "outputs": [],
      "source": [
        "# Q1. Explain Class and Object with respect to Object-Oriented Programming. Give a suitable example.\n",
        "# Object − Objects have states and behaviors. Example: A dog has states - color, name, breed as well as behaviors − wagging the tail, barking, eating.\n",
        "# An object is an instance of a class.\n",
        "# Class − A class can be defined as a template/blueprint that describes the behavior/state that the object of its type support."
      ]
    },
    {
      "cell_type": "code",
      "source": [
        "# Q2. Name the four pillars of OOPs.\n",
        "# 1. Encapsulation\n",
        "# 2. Polymorphism\n",
        "# 3. Abstraction\n",
        "# 4. Inheritance"
      ],
      "metadata": {
        "id": "bLS9DWiBzhl2"
      },
      "execution_count": null,
      "outputs": []
    },
    {
      "cell_type": "code",
      "source": [
        "# Q3. Explain why the __init__() function is used. Give a suitable example.\n",
        "# The __init__ method is the Python equivalent of the C++ constructor in an object-oriented approach. The __init__ function is called every time an object is created from a class.\n",
        "# The __init__ method lets the class initialize the object's attributes and serves no other purpose. It is only used within classes.\n",
        "class Person:\n",
        "\n",
        "\tdef __init__(self, name):\n",
        "\t\tself.name = name\n",
        "\n",
        "\t# Sample Method\n",
        "\tdef say_hi(self):\n",
        "\t\tprint('Hello, my name is', self.name)\n",
        "\n",
        "\n",
        "p = Person('Pratiksha')\n",
        "p.say_hi()\n",
        "\n"
      ],
      "metadata": {
        "colab": {
          "base_uri": "https://localhost:8080/"
        },
        "id": "VO7Mk1fyz1C7",
        "outputId": "d44f52b8-8659-4bd2-f892-4d7e242786c4"
      },
      "execution_count": 1,
      "outputs": [
        {
          "output_type": "stream",
          "name": "stdout",
          "text": [
            "Hello, my name is Pratiksha\n"
          ]
        }
      ]
    },
    {
      "cell_type": "code",
      "source": [
        "# Q4. Why self is used in OOPs?\n",
        "# The self keyword is used to represent an instance (object) of the given class."
      ],
      "metadata": {
        "id": "k1KgQ1hj-ywe"
      },
      "execution_count": null,
      "outputs": []
    },
    {
      "cell_type": "code",
      "source": [
        "# Q5. What is inheritance? Give an example for each type of inheritance.\n",
        "# Inheritance is defined as the mechanism of inheriting the properties of the base class to the child class.\n",
        "# Types of inheritance:\n",
        "# Single Inheritance:\n",
        "# Single inheritance enables a derived class to inherit properties from a single parent class, thus enabling code reusability and the addition of new features to existing code.\n",
        "\n",
        "# Python program to demonstrate\n",
        "# single inheritance\n",
        "\n",
        "# Base class\n",
        "class Parent:\n",
        "\tdef func1(self):\n",
        "\t\tprint(\"This function is in parent class.\")\n",
        "\n",
        "# Derived class\n",
        "\n",
        "\n",
        "class Child(Parent):\n",
        "\tdef func2(self):\n",
        "\t\tprint(\"This function is in child class.\")\n",
        "\n",
        "\n",
        "# Driver's code\n",
        "object = Child()\n",
        "object.func1()\n",
        "object.func2()\n"
      ],
      "metadata": {
        "colab": {
          "base_uri": "https://localhost:8080/"
        },
        "id": "L-vDBrRK-2F4",
        "outputId": "cdc03c02-f029-40d0-bed8-0eed62a686b7"
      },
      "execution_count": 2,
      "outputs": [
        {
          "output_type": "stream",
          "name": "stdout",
          "text": [
            "This function is in parent class.\n",
            "This function is in child class.\n"
          ]
        }
      ]
    },
    {
      "cell_type": "code",
      "source": [
        "# Multiple Inheritance:\n",
        "# When a class can be derived from more than one base class this type of inheritance is called multiple inheritances.\n",
        "# In multiple inheritances, all the features of the base classes are inherited into the derived class.\n",
        "\n",
        "# Python program to demonstrate\n",
        "# multiple inheritance\n",
        "\n",
        "# Base class1\n",
        "class Mother:\n",
        "\tmothername = \"\"\n",
        "\n",
        "\tdef mother(self):\n",
        "\t\tprint(self.mothername)\n",
        "\n",
        "# Base class2\n",
        "\n",
        "\n",
        "class Father:\n",
        "\tfathername = \"\"\n",
        "\n",
        "\tdef father(self):\n",
        "\t\tprint(self.fathername)\n",
        "\n",
        "# Derived class\n",
        "\n",
        "\n",
        "class Son(Mother, Father):\n",
        "\tdef parents(self):\n",
        "\t\tprint(\"Father :\", self.fathername)\n",
        "\t\tprint(\"Mother :\", self.mothername)\n",
        "\n",
        "\n",
        "# Driver's code\n",
        "s1 = Son()\n",
        "s1.fathername = \"RAM\"\n",
        "s1.mothername = \"SITA\"\n",
        "s1.parents()\n"
      ],
      "metadata": {
        "colab": {
          "base_uri": "https://localhost:8080/"
        },
        "id": "hyqGIDXZ_6nN",
        "outputId": "a9ea6b99-ae4f-442b-8f00-a31b10066f89"
      },
      "execution_count": 3,
      "outputs": [
        {
          "output_type": "stream",
          "name": "stdout",
          "text": [
            "Father : RAM\n",
            "Mother : SITA\n"
          ]
        }
      ]
    },
    {
      "cell_type": "code",
      "source": [
        "# Multilevel Inheritance :\n",
        "# In multilevel inheritance, features of the base class and the derived class are further inherited into the new derived class.\n",
        "# This is similar to a relationship representing a child and a grandfather.\n",
        "\n",
        "# Python program to demonstrate\n",
        "# multilevel inheritance\n",
        "\n",
        "# Base class\n",
        "\n",
        "\n",
        "class Grandfather:\n",
        "\n",
        "\tdef __init__(self, grandfathername):\n",
        "\t\tself.grandfathername = grandfathername\n",
        "\n",
        "# Intermediate class\n",
        "\n",
        "\n",
        "class Father(Grandfather):\n",
        "\tdef __init__(self, fathername, grandfathername):\n",
        "\t\tself.fathername = fathername\n",
        "\n",
        "\t\t# invoking constructor of Grandfather class\n",
        "\t\tGrandfather.__init__(self, grandfathername)\n",
        "\n",
        "# Derived class\n",
        "\n",
        "\n",
        "class Son(Father):\n",
        "\tdef __init__(self, sonname, fathername, grandfathername):\n",
        "\t\tself.sonname = sonname\n",
        "\n",
        "\t\t# invoking constructor of Father class\n",
        "\t\tFather.__init__(self, fathername, grandfathername)\n",
        "\n",
        "\tdef print_name(self):\n",
        "\t\tprint('Grandfather name :', self.grandfathername)\n",
        "\t\tprint(\"Father name :\", self.fathername)\n",
        "\t\tprint(\"Son name :\", self.sonname)\n",
        "\n",
        "\n",
        "# Driver code\n",
        "s1 = Son('Prince', 'Rampal', 'Lal mani')\n",
        "print(s1.grandfathername)\n",
        "s1.print_name()\n"
      ],
      "metadata": {
        "colab": {
          "base_uri": "https://localhost:8080/"
        },
        "id": "hfvltNGkAIoX",
        "outputId": "e9fb9406-db02-4f2f-8e87-ff8e9f627a74"
      },
      "execution_count": 4,
      "outputs": [
        {
          "output_type": "stream",
          "name": "stdout",
          "text": [
            "Lal mani\n",
            "Grandfather name : Lal mani\n",
            "Father name : Rampal\n",
            "Son name : Prince\n"
          ]
        }
      ]
    },
    {
      "cell_type": "code",
      "source": [
        "# Hierarchical Inheritance:\n",
        "# When more than one derived class are created from a single base this type of inheritance is called hierarchical inheritance.\n",
        "# In this program, we have a parent (base) class and two child (derived) classes.\n",
        "\n",
        "# Python program to demonstrate\n",
        "# Hierarchical inheritance\n",
        "\n",
        "\n",
        "# Base class\n",
        "class Parent:\n",
        "\tdef func1(self):\n",
        "\t\tprint(\"This function is in parent class.\")\n",
        "\n",
        "# Derived class1\n",
        "\n",
        "\n",
        "class Child1(Parent):\n",
        "\tdef func2(self):\n",
        "\t\tprint(\"This function is in child 1.\")\n",
        "\n",
        "# Derivied class2\n",
        "\n",
        "\n",
        "class Child2(Parent):\n",
        "\tdef func3(self):\n",
        "\t\tprint(\"This function is in child 2.\")\n",
        "\n",
        "\n",
        "# Driver's code\n",
        "object1 = Child1()\n",
        "object2 = Child2()\n",
        "object1.func1()\n",
        "object1.func2()\n",
        "object2.func1()\n",
        "object2.func3()\n"
      ],
      "metadata": {
        "colab": {
          "base_uri": "https://localhost:8080/"
        },
        "id": "vVxs9q-IAVH9",
        "outputId": "68b07626-226f-4292-9121-ae1b028ee42f"
      },
      "execution_count": 6,
      "outputs": [
        {
          "output_type": "stream",
          "name": "stdout",
          "text": [
            "This function is in parent class.\n",
            "This function is in child 1.\n",
            "This function is in parent class.\n",
            "This function is in child 2.\n"
          ]
        }
      ]
    },
    {
      "cell_type": "code",
      "source": [
        "# Hybrid Inheritance:\n",
        "# Inheritance consisting of multiple types of inheritance is called hybrid inheritance.\n",
        "\n",
        "# Python program to demonstrate\n",
        "# hybrid inheritance\n",
        "\n",
        "\n",
        "class School:\n",
        "\tdef func1(self):\n",
        "\t\tprint(\"This function is in school.\")\n",
        "\n",
        "\n",
        "class Student1(School):\n",
        "\tdef func2(self):\n",
        "\t\tprint(\"This function is in student 1. \")\n",
        "\n",
        "\n",
        "class Student2(School):\n",
        "\tdef func3(self):\n",
        "\t\tprint(\"This function is in student 2.\")\n",
        "\n",
        "\n",
        "class Student3(Student1, School):\n",
        "\tdef func4(self):\n",
        "\t\tprint(\"This function is in student 3.\")\n",
        "\n",
        "\n",
        "# Driver's code\n",
        "object = Student3()\n",
        "object.func1()\n",
        "object.func2()\n"
      ],
      "metadata": {
        "colab": {
          "base_uri": "https://localhost:8080/"
        },
        "id": "Nnd2mGhbAVor",
        "outputId": "a6ecec7d-b149-458a-87b8-8d7e840f38c2"
      },
      "execution_count": 7,
      "outputs": [
        {
          "output_type": "stream",
          "name": "stdout",
          "text": [
            "This function is in school.\n",
            "This function is in student 1. \n"
          ]
        }
      ]
    }
  ]
}